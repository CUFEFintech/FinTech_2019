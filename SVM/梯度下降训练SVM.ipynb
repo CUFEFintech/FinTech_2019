{
 "cells": [
  {
   "cell_type": "markdown",
   "metadata": {},
   "source": [
    "# 使用梯度下降法训练SVM"
   ]
  },
  {
   "cell_type": "markdown",
   "metadata": {},
   "source": [
    "## 定义线性模型\n",
    "\n",
    "$$\n",
    "f(x)=W^TX+b\n",
    "$$\n",
    "$$ g(x)= \\begin{cases} f(x)>0, & \\text {Output=+1} \\\\ f(x)<0, & \\text{Output=-1} \\end{cases} $$\n"
   ]
  },
  {
   "cell_type": "markdown",
   "metadata": {},
   "source": [
    "## 定义损失函数\n",
    "理想的损失函数应该是加总所有预测错误的样例\n",
    "$$\n",
    "L(f)=\\sum_n{\\delta(g(x)\\neq \\hat{y}^n)}\n",
    "$$\n",
    "然而，这样的函数无法使用梯度下降求解，使用Hinge Loss近似理想损失\n",
    "$$\n",
    "L(f)=\\sum_n{l(f(x^n), \\hat{y}^n)} + \\lambda||W||_2 \\\\\n",
    "l(f(x^n), \\hat{y}^n)=max(0,1-\\hat{y}^nf(x^n))\n",
    "$$"
   ]
  },
  {
   "cell_type": "markdown",
   "metadata": {},
   "source": [
    "Hinge Loss 的函数图形如下"
   ]
  },
  {
   "cell_type": "code",
   "execution_count": 59,
   "metadata": {},
   "outputs": [
    {
     "data": {
      "text/plain": [
       "[<matplotlib.lines.Line2D at 0x7fa1a221b278>]"
      ]
     },
     "execution_count": 59,
     "metadata": {},
     "output_type": "execute_result"
    },
    {
     "data": {
      "image/png": "[encoded data removed]",
      "text/plain": [
       "<Figure size 432x288 with 1 Axes>"
      ]
     },
     "metadata": {
      "needs_background": "light"
     },
     "output_type": "display_data"
    }
   ],
   "source": [
    "import numpy as np\n",
    "x = np.asarray(range(-10, 10)).reshape([1, -1])\n",
    "l = np.max(np.concatenate([np.zeros([1, x.shape[1]]), 1-x], axis=0), axis=0).reshape([-1])\n",
    "%matplotlib inline\n",
    "import matplotlib.pyplot as plt\n",
    "plt.plot(x.reshape([-1]), l)"
   ]
  },
  {
   "cell_type": "markdown",
   "metadata": {},
   "source": [
    "## 梯度下降\n",
    "为了简便，以下省略正则项 \n",
    "$$ L(f)=\\sum_n{l(f(x^n), \\hat{y}^n)} \\qquad l(f(x^n), \\hat{y}^n)=max(0,1-\\hat{y}^nf(x^n)) \\\\\n",
    "\\frac{\\partial l(f(x^n),\\hat{y}^n)}{\\partial w_i}=\\frac{\\partial l(f(x^n),\\hat{y}^n)}{\\partial f(x^n)} \\frac{\\partial f(x^n)}{\\partial w_i}\n",
    "$$\n",
    "其中 $f(x^n)=w^T  x^n$ 则 $\\frac{\\partial f(x^n)}{\\partial w_i}=x^n_i\n",
    "$\n",
    "$$\n",
    "\\frac{\\partial max(0, 1-\\hat{y}^nf(x^n))}{\\partial f(x^n)}=\\begin{cases} -\\hat{y}^n, & \\text {if $\\hat{y}^nf(x^n)<1$} \\\\ 0, & \\text{otherwise} \\end{cases}\n",
    "$$\n",
    "综上\n",
    "$$\n",
    "\\frac{\\partial L(f)}{\\partial w_i}=\\sum_n{-\\delta(\\hat{y}^nf(x^n)<1)\\hat{y}^nx_i}\n",
    "$$\n",
    "将$-\\delta(\\hat{y}^nf(x^n)<1)\\hat{y}^n$记做$c^n(w)$\n",
    "可以得到w的更新公式\n",
    "$$\n",
    "w_i \\leftarrow w_i - \\eta \\sum_n{c^n(w)x_i^n}\n",
    "$$"
   ]
  },
  {
   "cell_type": "code",
   "execution_count": null,
   "metadata": {},
   "outputs": [],
   "source": [
    "class SVM:\n",
    "    def __init__(self, lr_rate):\n",
    "        self.w = None\n",
    "        self.lr_rate = lr_rate\n",
    "    \n",
    "    def normalize(self, data):\n",
    "        m = np.mean(data, axis=0)\n",
    "        mx = np.max(data, axis=0)\n",
    "        mn = np.min(data, axis=0)\n",
    "        return (data - m.reshape([1, 30])) / (mx.reshape([1, -1]) - mn.reshape([1, -1]))\n",
    "    \n",
    "    def fit(self, x, y):\n",
    "        dim = x.shape[1]\n",
    "        x = self.normalize(x)\n",
    "        x = x.T\n",
    "        x = np.concatenate([x, np.ones([1, x.shape[1]])])\n",
    "        y = y + -1*(y==0).astype(np.int)\n",
    "        self.w = np.random.randn(dim+1)\n",
    "        for _ in range(20000):\n",
    "            fx = np.dot(self.w, x)\n",
    "            gradient = np.sum(-1 * (np.multiply(y, fx)<1).astype(np.float64) * y * x, axis=-1)\n",
    "            self.w = self.w - self.lr_rate * gradient\n",
    "            y_pred = np.round(np.dot(self.w, x)).astype(np.int)\n",
    "            y_pred = np.zeros(y_pred.shape) + (y_pred>0).astype(np.int) - 1 * (y_pred<0).astype(np.int)\n",
    "        print(accuracy_score(y, y_pred)) \n",
    "        \n",
    "    def test(self, x, y):\n",
    "        x = self.normalize(x)\n",
    "        x = x.T\n",
    "        x = np.concatenate([x, np.ones([1, x.shape[1]])])\n",
    "        y = y + -1*(y==0).astype(np.int)\n",
    "        y_pred = np.round(np.dot(self.w, x)).astype(np.int)\n",
    "        y_pred = np.zeros(y_pred.shape) + (y_pred>0).astype(np.int) - 1 * (y_pred<0).astype(np.int)\n",
    "        print(accuracy_score(y, y_pred)) "
   ]
  },
  {
   "cell_type": "code",
   "execution_count": null,
   "metadata": {},
   "outputs": [],
   "source": [
    "import numpy.random\n",
    "from sklearn.datasets import load_breast_cancer"
   ]
  },
  {
   "cell_type": "markdown",
   "metadata": {},
   "source": [
    "## 使用sklearn的乳腺癌数据"
   ]
  },
  {
   "cell_type": "code",
   "execution_count": 66,
   "metadata": {},
   "outputs": [],
   "source": [
    "dataset = load_breast_cancer()"
   ]
  },
  {
   "cell_type": "code",
   "execution_count": 2,
   "metadata": {},
   "outputs": [],
   "source": [
    "from sklearn.metrics import accuracy_score  "
   ]
  },
  {
   "cell_type": "code",
   "execution_count": 8,
   "metadata": {},
   "outputs": [
    {
     "name": "stdout",
     "output_type": "stream",
     "text": [
      "0.971830985915493\n",
      "0.8531468531468531\n"
     ]
    }
   ],
   "source": [
    "svm = SVM(0.001)\n",
    "len_data = len(dataset['data'])\n",
    "len_target = len(dataset['target'])\n",
    "svm.fit(dataset['data'][:int(3/4*len_data)], dataset['target'][:int(3/4*len_target)])\n",
    "svm.test(dataset['data'][int(3/4*len_data):], dataset['target'][int(3/4*len_target):])"
   ]
  },
  {
   "cell_type": "code",
   "execution_count": 10,
   "metadata": {},
   "outputs": [
    {
     "data": {
      "text/plain": [
       "(569, 30)"
      ]
     },
     "execution_count": 10,
     "metadata": {},
     "output_type": "execute_result"
    }
   ],
   "source": [
    "dataset['data'].shape"
   ]
  },
  {
   "cell_type": "code",
   "execution_count": 166,
   "metadata": {},
   "outputs": [],
   "source": [
    "from sklearn.svm import SVC\n",
    "from sklearn.preprocessing import StandardScaler\n",
    "from sklearn.model_selection import GridSearchCV, train_test_split"
   ]
  },
  {
   "cell_type": "code",
   "execution_count": 164,
   "metadata": {},
   "outputs": [],
   "source": [
    "def svm_c(x_train, x_test, y_train, y_test):\n",
    "    # rbf核函数，设置数据权重\n",
    "    svc = SVC(kernel='rbf', class_weight='balanced',)\n",
    "    c_range = np.logspace(-5, 15, 11, base=2)\n",
    "    gamma_range = np.logspace(-9, 3, 13, base=2)\n",
    "    # 网格搜索交叉验证的参数范围，cv=3,3折交叉\n",
    "    param_grid = [{'kernel': ['rbf'], 'C': c_range, 'gamma': gamma_range}]\n",
    "    grid = GridSearchCV(svc, param_grid, cv=3, n_jobs=-1)\n",
    "    # 训练模型\n",
    "    clf = grid.fit(x_train, y_train)\n",
    "    # 计算测试集精度\n",
    "    score = grid.score(x_test, y_test)\n",
    "    print('精度为%s' % score)"
   ]
  },
  {
   "cell_type": "code",
   "execution_count": 167,
   "metadata": {},
   "outputs": [
    {
     "name": "stdout",
     "output_type": "stream",
     "text": [
      "精度为0.8531468531468531\n"
     ]
    }
   ],
   "source": [
    "svm_c(dataset['data'][:int(3/4*len_data)], dataset['data'][int(3/4*len_data):], dataset['target'][:int(3/4*len_target)], dataset['target'][int(3/4*len_target):])"
   ]
  },
  {
   "cell_type": "code",
   "execution_count": null,
   "metadata": {},
   "outputs": [],
   "source": []
  }
 ],
 "metadata": {
  "kernelspec": {
   "display_name": "Python 3",
   "language": "python",
   "name": "python3"
  },
  "language_info": {
   "codemirror_mode": {
    "name": "ipython",
    "version": 3
   },
   "file_extension": ".py",
   "mimetype": "text/x-python",
   "name": "python",
   "nbconvert_exporter": "python",
   "pygments_lexer": "ipython3",
   "version": "3.6.8"
  }
 },
 "nbformat": 4,
 "nbformat_minor": 2
}
